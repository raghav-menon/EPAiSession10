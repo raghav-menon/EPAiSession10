{
 "cells": [
  {
   "cell_type": "markdown",
   "metadata": {},
   "source": [
    "## Testing the modules"
   ]
  },
  {
   "cell_type": "code",
   "execution_count": 1,
   "metadata": {},
   "outputs": [],
   "source": [
    "# Importing the libraries developed\n",
    "from Polygon_Sequence import Polygon_Sequence\n",
    "from Polygon import Polygon"
   ]
  },
  {
   "cell_type": "markdown",
   "metadata": {},
   "source": [
    "## Polygon"
   ]
  },
  {
   "cell_type": "code",
   "execution_count": 2,
   "metadata": {},
   "outputs": [],
   "source": [
    "# Initializing a polygon class\n",
    "p = Polygon(5,20)"
   ]
  },
  {
   "cell_type": "code",
   "execution_count": 3,
   "metadata": {},
   "outputs": [
    {
     "name": "stdout",
     "output_type": "stream",
     "text": [
      "Regular Convex Polygon with edges : 5 and circumradius : 20\n"
     ]
    }
   ],
   "source": [
    "# Printing the class\n",
    "print(p)"
   ]
  },
  {
   "cell_type": "code",
   "execution_count": 4,
   "metadata": {},
   "outputs": [
    {
     "name": "stdout",
     "output_type": "stream",
     "text": [
      "Circumradius : 20      \n",
      "Num Edges : 5        \n",
      "Num Vertices : 5       \n",
      "Perimeter :  117.55705045849464       \n",
      "Area : 951.0565162951538        \n",
      "Interior Angle : 108.0       \n",
      "Vertices : 5       \n",
      "Edge Length : 23.511410091698927       \n",
      "Apothem : 16.18033988749895\n"
     ]
    }
   ],
   "source": [
    "# Printing the properties of the class\n",
    "print(f'Circumradius : {p.circumradius}\\\n",
    "      \\nNum Edges : {p.num_edges}  \\\n",
    "      \\nNum Vertices : {p.num_vertices} \\\n",
    "      \\nPerimeter :  {p.perimeter} \\\n",
    "      \\nArea : {p.area}  \\\n",
    "      \\nInterior Angle : {p.interior_angle} \\\n",
    "      \\nVertices : {p.num_vertices} \\\n",
    "      \\nEdge Length : {p.edge_length} \\\n",
    "      \\nApothem : {p.apothem}')"
   ]
  },
  {
   "cell_type": "code",
   "execution_count": 5,
   "metadata": {},
   "outputs": [],
   "source": [
    "# Assigning two polygon class for comparison\n",
    "p1 = Polygon(5,10)\n",
    "p2 = Polygon(10, 10)"
   ]
  },
  {
   "cell_type": "code",
   "execution_count": 6,
   "metadata": {},
   "outputs": [
    {
     "data": {
      "text/plain": [
       "'Regular Convex Polygon with edges : 5 and circumradius : 10'"
      ]
     },
     "execution_count": 6,
     "metadata": {},
     "output_type": "execute_result"
    }
   ],
   "source": [
    "# Assigning a third class in a different way again for comparison\n",
    "p3 = Polygon()\n",
    "p3.num_edges = 5\n",
    "p3.circumradius = 10\n",
    "repr(p3)"
   ]
  },
  {
   "cell_type": "markdown",
   "metadata": {},
   "source": [
    "## Comparing the Polygon classes"
   ]
  },
  {
   "cell_type": "code",
   "execution_count": 7,
   "metadata": {},
   "outputs": [
    {
     "data": {
      "text/plain": [
       "False"
      ]
     },
     "execution_count": 7,
     "metadata": {},
     "output_type": "execute_result"
    }
   ],
   "source": [
    "## For Equality\n",
    "p1 == p2"
   ]
  },
  {
   "cell_type": "code",
   "execution_count": 8,
   "metadata": {},
   "outputs": [
    {
     "data": {
      "text/plain": [
       "True"
      ]
     },
     "execution_count": 8,
     "metadata": {},
     "output_type": "execute_result"
    }
   ],
   "source": [
    "## For Equality\n",
    "p1 == p3"
   ]
  },
  {
   "cell_type": "code",
   "execution_count": 9,
   "metadata": {},
   "outputs": [
    {
     "data": {
      "text/plain": [
       "False"
      ]
     },
     "execution_count": 9,
     "metadata": {},
     "output_type": "execute_result"
    }
   ],
   "source": [
    "# For greater than\n",
    "p1 > p2"
   ]
  },
  {
   "cell_type": "code",
   "execution_count": 10,
   "metadata": {},
   "outputs": [
    {
     "data": {
      "text/plain": [
       "True"
      ]
     },
     "execution_count": 10,
     "metadata": {},
     "output_type": "execute_result"
    }
   ],
   "source": [
    "# For less than\n",
    "p1 < p2"
   ]
  },
  {
   "cell_type": "code",
   "execution_count": 11,
   "metadata": {},
   "outputs": [
    {
     "data": {
      "text/plain": [
       "False"
      ]
     },
     "execution_count": 11,
     "metadata": {},
     "output_type": "execute_result"
    }
   ],
   "source": [
    "# For greater than\n",
    "p1 > p3"
   ]
  },
  {
   "cell_type": "code",
   "execution_count": 12,
   "metadata": {},
   "outputs": [
    {
     "data": {
      "text/plain": [
       "False"
      ]
     },
     "execution_count": 12,
     "metadata": {},
     "output_type": "execute_result"
    }
   ],
   "source": [
    "# For less than\n",
    "p1 < p3"
   ]
  },
  {
   "cell_type": "code",
   "execution_count": 13,
   "metadata": {},
   "outputs": [
    {
     "data": {
      "text/plain": [
       "'Regular Convex Polygon with edges : 5 and circumradius : 10'"
      ]
     },
     "execution_count": 13,
     "metadata": {},
     "output_type": "execute_result"
    }
   ],
   "source": [
    "# Displaying the properties of p1 using repr function\n",
    "repr(p1)"
   ]
  },
  {
   "cell_type": "markdown",
   "metadata": {},
   "source": [
    "## Polygon Sequence"
   ]
  },
  {
   "cell_type": "code",
   "execution_count": 14,
   "metadata": {},
   "outputs": [
    {
     "data": {
      "text/plain": [
       "Polygon Sequence::  Circumradius : 10 , Largest Number Of Edges: 3, length : 1"
      ]
     },
     "execution_count": 14,
     "metadata": {},
     "output_type": "execute_result"
    }
   ],
   "source": [
    "# Initializing a polygon sequence\n",
    "Polygon_Sequence(3,10)"
   ]
  },
  {
   "cell_type": "code",
   "execution_count": 15,
   "metadata": {},
   "outputs": [],
   "source": [
    "# Initializing a polygon sequence with maximum edges = 25 and circumradius = 10\n",
    "ps = Polygon_Sequence(25,10)"
   ]
  },
  {
   "cell_type": "code",
   "execution_count": 16,
   "metadata": {},
   "outputs": [
    {
     "data": {
      "text/plain": [
       "Polygon Sequence::  Circumradius : 10 , Largest Number Of Edges: 25, length : 23"
      ]
     },
     "execution_count": 16,
     "metadata": {},
     "output_type": "execute_result"
    }
   ],
   "source": [
    "# Printing about sequence\n",
    "ps"
   ]
  },
  {
   "cell_type": "code",
   "execution_count": 17,
   "metadata": {},
   "outputs": [
    {
     "data": {
      "text/plain": [
       "[Regular Convex Polygon with edges : 3 and circumradius : 10,\n",
       " Regular Convex Polygon with edges : 4 and circumradius : 10,\n",
       " Regular Convex Polygon with edges : 5 and circumradius : 10,\n",
       " Regular Convex Polygon with edges : 6 and circumradius : 10,\n",
       " Regular Convex Polygon with edges : 7 and circumradius : 10,\n",
       " Regular Convex Polygon with edges : 8 and circumradius : 10,\n",
       " Regular Convex Polygon with edges : 9 and circumradius : 10,\n",
       " Regular Convex Polygon with edges : 10 and circumradius : 10,\n",
       " Regular Convex Polygon with edges : 11 and circumradius : 10,\n",
       " Regular Convex Polygon with edges : 12 and circumradius : 10,\n",
       " Regular Convex Polygon with edges : 13 and circumradius : 10,\n",
       " Regular Convex Polygon with edges : 14 and circumradius : 10,\n",
       " Regular Convex Polygon with edges : 15 and circumradius : 10,\n",
       " Regular Convex Polygon with edges : 16 and circumradius : 10,\n",
       " Regular Convex Polygon with edges : 17 and circumradius : 10,\n",
       " Regular Convex Polygon with edges : 18 and circumradius : 10,\n",
       " Regular Convex Polygon with edges : 19 and circumradius : 10,\n",
       " Regular Convex Polygon with edges : 20 and circumradius : 10,\n",
       " Regular Convex Polygon with edges : 21 and circumradius : 10,\n",
       " Regular Convex Polygon with edges : 22 and circumradius : 10,\n",
       " Regular Convex Polygon with edges : 23 and circumradius : 10,\n",
       " Regular Convex Polygon with edges : 24 and circumradius : 10,\n",
       " Regular Convex Polygon with edges : 25 and circumradius : 10]"
      ]
     },
     "execution_count": 17,
     "metadata": {},
     "output_type": "execute_result"
    }
   ],
   "source": [
    "# Printing the contents of the sequence\n",
    "ps[:]"
   ]
  },
  {
   "cell_type": "code",
   "execution_count": 18,
   "metadata": {},
   "outputs": [
    {
     "data": {
      "text/plain": [
       "Regular Convex Polygon with edges : 25 and circumradius : 10"
      ]
     },
     "execution_count": 18,
     "metadata": {},
     "output_type": "execute_result"
    }
   ],
   "source": [
    "# Printing the last element of the sequence\n",
    "ps[-1]"
   ]
  },
  {
   "cell_type": "code",
   "execution_count": 19,
   "metadata": {},
   "outputs": [
    {
     "data": {
      "text/plain": [
       "Regular Convex Polygon with edges : 24 and circumradius : 10"
      ]
     },
     "execution_count": 19,
     "metadata": {},
     "output_type": "execute_result"
    }
   ],
   "source": [
    "# Printing the second last element of the sequence\n",
    "ps[-2]"
   ]
  },
  {
   "cell_type": "code",
   "execution_count": 20,
   "metadata": {},
   "outputs": [
    {
     "data": {
      "text/plain": [
       "Regular Convex Polygon with edges : 3 and circumradius : 10"
      ]
     },
     "execution_count": 20,
     "metadata": {},
     "output_type": "execute_result"
    }
   ],
   "source": [
    "# Printing the first element of the sequence\n",
    "ps[0]"
   ]
  },
  {
   "cell_type": "code",
   "execution_count": 21,
   "metadata": {},
   "outputs": [
    {
     "data": {
      "text/plain": [
       "[Regular Convex Polygon with edges : 13 and circumradius : 10,\n",
       " Regular Convex Polygon with edges : 14 and circumradius : 10,\n",
       " Regular Convex Polygon with edges : 15 and circumradius : 10,\n",
       " Regular Convex Polygon with edges : 16 and circumradius : 10,\n",
       " Regular Convex Polygon with edges : 17 and circumradius : 10,\n",
       " Regular Convex Polygon with edges : 18 and circumradius : 10,\n",
       " Regular Convex Polygon with edges : 19 and circumradius : 10,\n",
       " Regular Convex Polygon with edges : 20 and circumradius : 10,\n",
       " Regular Convex Polygon with edges : 21 and circumradius : 10,\n",
       " Regular Convex Polygon with edges : 22 and circumradius : 10]"
      ]
     },
     "execution_count": 21,
     "metadata": {},
     "output_type": "execute_result"
    }
   ],
   "source": [
    "# Printing a slice from the sequence\n",
    "ps[10:20]"
   ]
  },
  {
   "cell_type": "code",
   "execution_count": 22,
   "metadata": {},
   "outputs": [
    {
     "data": {
      "text/plain": [
       "[Regular Convex Polygon with edges : 13 and circumradius : 10,\n",
       " Regular Convex Polygon with edges : 15 and circumradius : 10,\n",
       " Regular Convex Polygon with edges : 17 and circumradius : 10,\n",
       " Regular Convex Polygon with edges : 19 and circumradius : 10,\n",
       " Regular Convex Polygon with edges : 21 and circumradius : 10]"
      ]
     },
     "execution_count": 22,
     "metadata": {},
     "output_type": "execute_result"
    }
   ],
   "source": [
    "# Printing a slice from the sequence skipping every second element\n",
    "ps[10:20:2]"
   ]
  },
  {
   "cell_type": "code",
   "execution_count": 23,
   "metadata": {},
   "outputs": [
    {
     "data": {
      "text/plain": [
       "[Regular Convex Polygon with edges : 23 and circumradius : 10,\n",
       " Regular Convex Polygon with edges : 21 and circumradius : 10,\n",
       " Regular Convex Polygon with edges : 19 and circumradius : 10,\n",
       " Regular Convex Polygon with edges : 17 and circumradius : 10,\n",
       " Regular Convex Polygon with edges : 15 and circumradius : 10]"
      ]
     },
     "execution_count": 23,
     "metadata": {},
     "output_type": "execute_result"
    }
   ],
   "source": [
    "# Printing a slice from the sequence skipping every second element in the decending order\n",
    "ps[20:10:-2]"
   ]
  },
  {
   "cell_type": "code",
   "execution_count": 24,
   "metadata": {},
   "outputs": [
    {
     "data": {
      "text/plain": [
       "[Regular Convex Polygon with edges : 25 and circumradius : 10,\n",
       " Regular Convex Polygon with edges : 24 and circumradius : 10,\n",
       " Regular Convex Polygon with edges : 23 and circumradius : 10,\n",
       " Regular Convex Polygon with edges : 22 and circumradius : 10,\n",
       " Regular Convex Polygon with edges : 21 and circumradius : 10,\n",
       " Regular Convex Polygon with edges : 20 and circumradius : 10,\n",
       " Regular Convex Polygon with edges : 19 and circumradius : 10,\n",
       " Regular Convex Polygon with edges : 18 and circumradius : 10,\n",
       " Regular Convex Polygon with edges : 17 and circumradius : 10,\n",
       " Regular Convex Polygon with edges : 16 and circumradius : 10,\n",
       " Regular Convex Polygon with edges : 15 and circumradius : 10,\n",
       " Regular Convex Polygon with edges : 14 and circumradius : 10,\n",
       " Regular Convex Polygon with edges : 13 and circumradius : 10,\n",
       " Regular Convex Polygon with edges : 12 and circumradius : 10,\n",
       " Regular Convex Polygon with edges : 11 and circumradius : 10,\n",
       " Regular Convex Polygon with edges : 10 and circumradius : 10,\n",
       " Regular Convex Polygon with edges : 9 and circumradius : 10,\n",
       " Regular Convex Polygon with edges : 8 and circumradius : 10,\n",
       " Regular Convex Polygon with edges : 7 and circumradius : 10,\n",
       " Regular Convex Polygon with edges : 6 and circumradius : 10,\n",
       " Regular Convex Polygon with edges : 5 and circumradius : 10,\n",
       " Regular Convex Polygon with edges : 4 and circumradius : 10,\n",
       " Regular Convex Polygon with edges : 3 and circumradius : 10]"
      ]
     },
     "execution_count": 24,
     "metadata": {},
     "output_type": "execute_result"
    }
   ],
   "source": [
    "# Printing in reverse order\n",
    "ps[::-1]"
   ]
  },
  {
   "cell_type": "code",
   "execution_count": 25,
   "metadata": {},
   "outputs": [
    {
     "data": {
      "text/plain": [
       "Regular Convex Polygon with edges : 25 and circumradius : 10"
      ]
     },
     "execution_count": 25,
     "metadata": {},
     "output_type": "execute_result"
    }
   ],
   "source": [
    "# Max _Efficient_Polygon\n",
    "ps.max_efficiency_polygon"
   ]
  },
  {
   "cell_type": "code",
   "execution_count": 26,
   "metadata": {},
   "outputs": [
    {
     "data": {
      "text/plain": [
       "23"
      ]
     },
     "execution_count": 26,
     "metadata": {},
     "output_type": "execute_result"
    }
   ],
   "source": [
    "# Printing the length of the sequence\n",
    "len(ps)"
   ]
  },
  {
   "cell_type": "code",
   "execution_count": 27,
   "metadata": {},
   "outputs": [
    {
     "data": {
      "text/plain": [
       "'Polygon Sequence::  Circumradius : 10 , Largest Number Of Edges: 25, length : 23'"
      ]
     },
     "execution_count": 27,
     "metadata": {},
     "output_type": "execute_result"
    }
   ],
   "source": [
    "# Printing about the sequence using repr function\n",
    "repr(ps)"
   ]
  },
  {
   "cell_type": "code",
   "execution_count": 31,
   "metadata": {},
   "outputs": [
    {
     "data": {
      "text/plain": [
       "Regular Convex Polygon with edges : 25 and circumradius : 10"
      ]
     },
     "execution_count": 31,
     "metadata": {},
     "output_type": "execute_result"
    }
   ],
   "source": [
    "ps.max_efficiency_polygon"
   ]
  },
  {
   "cell_type": "code",
   "execution_count": null,
   "metadata": {},
   "outputs": [],
   "source": []
  },
  {
   "cell_type": "code",
   "execution_count": null,
   "metadata": {},
   "outputs": [],
   "source": []
  }
 ],
 "metadata": {
  "kernelspec": {
   "display_name": "Python 3",
   "language": "python",
   "name": "python3"
  },
  "language_info": {
   "codemirror_mode": {
    "name": "ipython",
    "version": 3
   },
   "file_extension": ".py",
   "mimetype": "text/x-python",
   "name": "python",
   "nbconvert_exporter": "python",
   "pygments_lexer": "ipython3",
   "version": "3.8.5"
  }
 },
 "nbformat": 4,
 "nbformat_minor": 4
}
